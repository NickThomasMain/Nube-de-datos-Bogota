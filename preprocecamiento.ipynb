{
 "cells": [
  {
   "cell_type": "code",
   "execution_count": 1,
   "id": "a57d39d1-ffcc-4e2c-b52f-8cd9af0d1442",
   "metadata": {
    "tags": []
   },
   "outputs": [],
   "source": [
    "import copy, sys, os\n",
    "import numpy as np\n",
    "\n",
    "import matplotlib.pyplot as plt\n",
    "\n",
    "import open3d as o3d\n",
    "import laspy"
   ]
  },
  {
   "cell_type": "code",
   "execution_count": 2,
   "id": "4abc348f-ad89-4bbf-98d5-c5cd2734f128",
   "metadata": {
    "tags": []
   },
   "outputs": [
    {
     "name": "stdout",
     "output_type": "stream",
     "text": [
      "pcd: PointCloud with 11480122 points.\n"
     ]
    }
   ],
   "source": [
    "pc_path = '' #you will need to change this path\n",
    "pc_fn = 'points.laz'\n",
    "pc1 = laspy.read(os.path.join(pc_path, pc_fn))\n",
    "xyz = np.vstack((pc1.x, pc1.y, pc1.z)).transpose()\n",
    "\n",
    "#could be useful to subtract mean x and y position to have smaller (and easier to read) numbers\n",
    "#xyz[:,0] = xyz[:,0] - xyz.mean(axis=0)[0]\n",
    "#xyz[:,1] = xyz[:,1] - xyz.mean(axis=0)[1]\n",
    "\n",
    "pcd = o3d.geometry.PointCloud()\n",
    "pcd.points = o3d.utility.Vector3dVector(xyz)\n",
    "print('pcd:', pcd)"
   ]
  },
  {
   "cell_type": "code",
   "execution_count": 3,
   "id": "e31fabc1-11f2-45b1-b056-b807db6819fb",
   "metadata": {},
   "outputs": [],
   "source": [
    "def display_inlier_outlier(cloud, ind):\n",
    "    inlier_cloud = cloud.select_by_index(ind)\n",
    "    outlier_cloud = cloud.select_by_index(ind, invert=True)\n",
    "\n",
    "    print(\"Showing outliers (red) and inliers (gray): \")\n",
    "    outlier_cloud.paint_uniform_color([1, 0, 0])\n",
    "    inlier_cloud.paint_uniform_color([0.8, 0.8, 0.8])\n",
    "    o3d.visualization.draw_geometries([inlier_cloud, outlier_cloud])"
   ]
  },
  {
   "cell_type": "code",
   "execution_count": 4,
   "id": "78b57448-2590-4b69-848f-e25b6ee9e59e",
   "metadata": {},
   "outputs": [
    {
     "name": "stdout",
     "output_type": "stream",
     "text": [
      "Showing outliers (red) and inliers (gray): \n"
     ]
    }
   ],
   "source": [
    "cl, ind = pcd.remove_statistical_outlier(nb_neighbors=40, std_ratio=8)\n",
    "display_inlier_outlier(pcd, ind)"
   ]
  },
  {
   "cell_type": "code",
   "execution_count": 6,
   "id": "5c0f1ad8-df21-422c-8e07-e7739a4be808",
   "metadata": {},
   "outputs": [
    {
     "name": "stdout",
     "output_type": "stream",
     "text": [
      "\u001b[1;33m[Open3D WARNING] Write geometry::PointCloud failed: unknown file extension las for file filtered.las.\u001b[0;m\n"
     ]
    },
    {
     "data": {
      "text/plain": [
       "False"
      ]
     },
     "execution_count": 6,
     "metadata": {},
     "output_type": "execute_result"
    }
   ],
   "source": [
    "o3d.io.write_point_cloud('filtered.las', pcd.select_by_index(ind))"
   ]
  },
  {
   "cell_type": "code",
   "execution_count": 7,
   "id": "8de34d1c-2681-4735-9296-4d285dea10c4",
   "metadata": {},
   "outputs": [],
   "source": [
    "from scipy.spatial import cKDTree\n",
    "\n",
    "def outlier_filter(xyz, k=12, percentile=1):\n",
    "    #simple outlier filter based on cKDTree\n",
    "    xyz_tree = cKDTree(xyz)\n",
    "    d, _ = xyz_tree.query(xyz, k=k, workers=-1)\n",
    "    #2D density:\n",
    "    #dens =  k / np.pi / d[:, -1]**2\n",
    "    \n",
    "    #3D density:\n",
    "    #Volume of a sphere? 4/3 r^3 * pi\n",
    "    circle_volume = 4/3 * d[:, -1]**3 * np.pi\n",
    "    dens = k / circle_volume #nr of points / volume\n",
    "\n",
    "    idx2keep, = np.where(dens > np.percentile(dens,percentile))\n",
    "    xyz_tree, d = None, None\n",
    "    #could also return index of files to keep idx2keep\n",
    "    return xyz[idx2keep]\n",
    "\n",
    "pt_f = outlier_filter(np.asarray(pcd.points))\n",
    "\n",
    "pcd_f2 = o3d.geometry.PointCloud()\n",
    "pcd_f2.points = o3d.utility.Vector3dVector(pt_f)\n",
    "\n",
    "o3d.visualization.draw_geometries([pcd_f2], point_show_normal=False)"
   ]
  }
 ],
 "metadata": {
  "kernelspec": {
   "display_name": "Python 3 (ipykernel)",
   "language": "python",
   "name": "python3"
  },
  "language_info": {
   "codemirror_mode": {
    "name": "ipython",
    "version": 3
   },
   "file_extension": ".py",
   "mimetype": "text/x-python",
   "name": "python",
   "nbconvert_exporter": "python",
   "pygments_lexer": "ipython3",
   "version": "3.10.14"
  }
 },
 "nbformat": 4,
 "nbformat_minor": 5
}
